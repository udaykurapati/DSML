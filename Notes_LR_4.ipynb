{
  "nbformat": 4,
  "nbformat_minor": 0,
  "metadata": {
    "colab": {
      "provenance": [],
      "toc_visible": true,
      "include_colab_link": true
    },
    "kernelspec": {
      "name": "python3",
      "display_name": "Python 3"
    },
    "language_info": {
      "name": "python"
    }
  },
  "cells": [
    {
      "cell_type": "markdown",
      "metadata": {
        "id": "view-in-github",
        "colab_type": "text"
      },
      "source": [
        "<a href=\"https://colab.research.google.com/github/udaykurapati/DSML/blob/MachineLearning/Notes_LR_4.ipynb\" target=\"_parent\"><img src=\"https://colab.research.google.com/assets/colab-badge.svg\" alt=\"Open In Colab\"/></a>"
      ]
    },
    {
      "cell_type": "markdown",
      "metadata": {
        "id": "Q1fMwTxIi9dX"
      },
      "source": [
        "#Content\n",
        "- Assumption of Linear Regression\n",
        "  - Assumption of Linearity\n",
        "  - Features are not multi-Collinear\n",
        "   - Collinearity\n",
        "   - Multi-Collinearity\n",
        "\n",
        "  - Errors are normally Distributed\n",
        "  - Heteroskedasticity should not exist\n",
        "  - No Autocorrelation\n"
      ]
    },
    {
      "cell_type": "markdown",
      "metadata": {
        "id": "rlGWpfaUmwQz"
      },
      "source": [
        "## Assumptions of Linear Regression"
      ]
    },
    {
      "cell_type": "markdown",
      "source": [
        "<img src='https://d2beiqkhq929f0.cloudfront.net/public_assets/assets/000/061/755/original/z.png?1705226251' width=800>"
      ],
      "metadata": {
        "id": "9E0pK3IClIL7"
      }
    },
    {
      "cell_type": "markdown",
      "metadata": {
        "id": "bRTvn3fD4x79"
      },
      "source": [
        "- We can arrive at concept of Linear regression in two ways.\n",
        "  - Algebra & Optimization (Geometric) - We covered this\n",
        "  - Probability & Statistics\n",
        "- We can prove that Linear regression is a very good model if all the statistical assumptions holds true.\n"
      ]
    },
    {
      "cell_type": "markdown",
      "metadata": {
        "id": "ud8ofX-550kF"
      },
      "source": [
        "## 1.Assumption of Linearity\n",
        "\n"
      ]
    },
    {
      "cell_type": "markdown",
      "source": [
        "<img src='https://d2beiqkhq929f0.cloudfront.net/public_assets/assets/000/061/756/original/z.png?1705226286' width=800>"
      ],
      "metadata": {
        "id": "cPv92YS8lOJ9"
      }
    },
    {
      "cell_type": "markdown",
      "metadata": {
        "id": "8Okb5joD6jtg"
      },
      "source": [
        "## 2. Non multi-collinear features\n"
      ]
    },
    {
      "cell_type": "markdown",
      "source": [
        "<img src='https://d2beiqkhq929f0.cloudfront.net/public_assets/assets/000/061/757/original/z.png?1705226446' width=800>\n",
        "\n"
      ],
      "metadata": {
        "id": "qv3s3SGblc_9"
      }
    },
    {
      "cell_type": "markdown",
      "source": [
        "<img src='https://d2beiqkhq929f0.cloudfront.net/public_assets/assets/000/061/758/original/z.png?1705226504' width=800>"
      ],
      "metadata": {
        "id": "j56nLd47lkpH"
      }
    },
    {
      "cell_type": "markdown",
      "metadata": {
        "id": "RwCtWi5ABD_E"
      },
      "source": [
        "#### How can we remove these highly correlated features?\n",
        "\n",
        "We will use something called VIF (Variance Inflation Factor)\n",
        "\n",
        "Let's understand this with an example\n"
      ]
    },
    {
      "cell_type": "markdown",
      "source": [
        "<img src='https://d2beiqkhq929f0.cloudfront.net/public_assets/assets/000/061/759/original/z.png?1705226538' width=800>\n"
      ],
      "metadata": {
        "id": "gv97sZRFlrOH"
      }
    },
    {
      "cell_type": "markdown",
      "source": [
        "\n",
        "<img src='https://d2beiqkhq929f0.cloudfront.net/public_assets/assets/000/061/760/original/z.png?1705226569' width=800>\n",
        "\n"
      ],
      "metadata": {
        "id": "U2ModYgcmCjZ"
      }
    },
    {
      "cell_type": "markdown",
      "source": [
        "<img src='https://d2beiqkhq929f0.cloudfront.net/public_assets/assets/000/061/761/original/z.png?1705226618' width=800>\n",
        "\n"
      ],
      "metadata": {
        "id": "DuoX9JeTmC-t"
      }
    },
    {
      "cell_type": "markdown",
      "source": [
        "<img src='https://d2beiqkhq929f0.cloudfront.net/public_assets/assets/000/061/762/original/z.png?1705226647' width=800>"
      ],
      "metadata": {
        "id": "hVivOSI9G8TO"
      }
    },
    {
      "cell_type": "markdown",
      "metadata": {
        "id": "biNRH_qYYBjG"
      },
      "source": [
        "Now lets see if there are any multi-collinear features in Cars24 data"
      ]
    },
    {
      "cell_type": "markdown",
      "metadata": {
        "id": "VUTe9FBBTp1k"
      },
      "source": [
        "we will be using Statsmodel for Linear Regression\n",
        "\n",
        "For standardization of X we will be using Scikit Learn [StandardScaler](https://scikit-learn.org/stable/modules/generated/sklearn.preprocessing.StandardScaler.html)\n",
        "- Which does the implementation of Standardizing features for us"
      ]
    },
    {
      "cell_type": "code",
      "execution_count": null,
      "metadata": {
        "colab": {
          "base_uri": "https://localhost:8080/"
        },
        "id": "aQgezHl6SB8D",
        "outputId": "dd9cda2c-7d8b-4357-d51b-801599d193ec"
      },
      "outputs": [
        {
          "output_type": "stream",
          "name": "stdout",
          "text": [
            "                            OLS Regression Results                            \n",
            "==============================================================================\n",
            "Dep. Variable:          selling_price   R-squared:                       0.941\n",
            "Model:                            OLS   Adj. R-squared:                  0.941\n",
            "Method:                 Least Squares   F-statistic:                 1.588e+04\n",
            "Date:                Wed, 09 Aug 2023   Prob (F-statistic):               0.00\n",
            "Time:                        13:34:26   Log-Likelihood:                -7.3180\n",
            "No. Observations:               15856   AIC:                             48.64\n",
            "Df Residuals:                   15839   BIC:                             179.0\n",
            "Df Model:                          16                                         \n",
            "Covariance Type:            nonrobust                                         \n",
            "==============================================================================\n",
            "                 coef    std err          t      P>|t|      [0.025      0.975]\n",
            "------------------------------------------------------------------------------\n",
            "const         -0.0004      0.002     -0.223      0.823      -0.004       0.003\n",
            "x1             0.0659      0.001     49.425      0.000       0.063       0.069\n",
            "x2            -0.0169      0.002     -7.977      0.000      -0.021      -0.013\n",
            "x3            -0.0498      0.003    -14.435      0.000      -0.057      -0.043\n",
            "x4             0.0307      0.005      6.378      0.000       0.021       0.040\n",
            "x5             0.0302      0.004      7.027      0.000       0.022       0.039\n",
            "x6            -0.0659      0.001    -49.425      0.000      -0.069      -0.063\n",
            "x7             0.0607      0.003     17.612      0.000       0.054       0.067\n",
            "x8             0.7907      0.005    171.030      0.000       0.782       0.800\n",
            "x9            -0.0179      0.002     -8.906      0.000      -0.022      -0.014\n",
            "x10           -0.0031      0.002     -1.606      0.108      -0.007       0.001\n",
            "x11            0.0129      0.008      1.614      0.107      -0.003       0.029\n",
            "x12            0.0155      0.002      7.266      0.000       0.011       0.020\n",
            "x13            0.0023      0.002      1.061      0.289      -0.002       0.007\n",
            "x14           -0.0238      0.008     -2.898      0.004      -0.040      -0.008\n",
            "x15           -0.0136      0.003     -5.285      0.000      -0.019      -0.009\n",
            "x16           -0.0264      0.007     -4.005      0.000      -0.039      -0.013\n",
            "x17           -0.0359      0.007     -5.168      0.000      -0.050      -0.022\n",
            "==============================================================================\n",
            "Omnibus:                     3788.584   Durbin-Watson:                   2.003\n",
            "Prob(Omnibus):                  0.000   Jarque-Bera (JB):           169531.293\n",
            "Skew:                           0.334   Prob(JB):                         0.00\n",
            "Kurtosis:                      19.005   Cond. No.                     1.39e+15\n",
            "==============================================================================\n",
            "\n",
            "Notes:\n",
            "[1] Standard Errors assume that the covariance matrix of the errors is correctly specified.\n",
            "[2] The smallest eigenvalue is 3.74e-26. This might indicate that there are\n",
            "strong multicollinearity problems or that the design matrix is singular.\n"
          ]
        }
      ],
      "source": [
        "# Statmodels implementation of Linear regression\n",
        "import statsmodels.api as sm\n",
        "from sklearn.preprocessing import StandardScaler\n",
        "from sklearn.model_selection import train_test_split\n",
        "\n",
        "X = df[df.columns.drop('selling_price')]\n",
        "y = df[\"selling_price\"]\n",
        "\n",
        "X_train, X_test, y_train, y_test = train_test_split(X, y, test_size=0.2, random_state=2)\n",
        "\n",
        "scaler = StandardScaler()\n",
        "X_tr_scaled = scaler.fit_transform(X_train)\n",
        "\n",
        "X_sm = sm.add_constant(X_tr_scaled)  #Statmodels default is without intercept, to add intercept we need to add constant\n",
        "\n",
        "sm_model = sm.OLS(y_train, X_sm).fit()\n",
        "\n",
        "print(sm_model.summary())"
      ]
    },
    {
      "cell_type": "markdown",
      "metadata": {
        "id": "J6jOlvEPs0Ld"
      },
      "source": [
        "#### Multicollinearity and implementation\n",
        "- When one or more input variables exhibhit strong correlation\n",
        "- One variable is enough to be part of the model."
      ]
    },
    {
      "cell_type": "code",
      "execution_count": null,
      "metadata": {
        "id": "kbcapTpSsvnU"
      },
      "outputs": [],
      "source": [
        "# VIF\n",
        "from statsmodels.stats.outliers_influence import variance_inflation_factor"
      ]
    },
    {
      "cell_type": "code",
      "execution_count": null,
      "metadata": {
        "colab": {
          "base_uri": "https://localhost:8080/",
          "height": 618
        },
        "id": "HqykuJqjsvk-",
        "outputId": "ccfcdd88-cb82-40a2-e2d8-d9c8da584cd2"
      },
      "outputs": [
        {
          "output_type": "stream",
          "name": "stderr",
          "text": [
            "/usr/local/lib/python3.10/dist-packages/statsmodels/stats/outliers_influence.py:195: RuntimeWarning: divide by zero encountered in double_scalars\n",
            "  vif = 1. / (1. - r_squared_i)\n"
          ]
        },
        {
          "output_type": "execute_result",
          "data": {
            "text/plain": [
              "            Features    VIF\n",
              "0               year    inf\n",
              "5                age    inf\n",
              "13            Petrol  18.30\n",
              "10            Diesel  17.30\n",
              "16                >5  13.04\n",
              "15                 5  11.75\n",
              "3             engine   6.26\n",
              "7              model   5.78\n",
              "4          max_power   5.00\n",
              "2            mileage   3.22\n",
              "6               make   3.21\n",
              "14            Manual   1.79\n",
              "12               LPG   1.25\n",
              "11          Electric   1.23\n",
              "1          km_driven   1.21\n",
              "8         Individual   1.09\n",
              "9   Trustmark Dealer   1.02"
            ],
            "text/html": [
              "\n",
              "\n",
              "  <div id=\"df-54aab716-94b9-4cd8-878b-cbb74ad54713\">\n",
              "    <div class=\"colab-df-container\">\n",
              "      <div>\n",
              "<style scoped>\n",
              "    .dataframe tbody tr th:only-of-type {\n",
              "        vertical-align: middle;\n",
              "    }\n",
              "\n",
              "    .dataframe tbody tr th {\n",
              "        vertical-align: top;\n",
              "    }\n",
              "\n",
              "    .dataframe thead th {\n",
              "        text-align: right;\n",
              "    }\n",
              "</style>\n",
              "<table border=\"1\" class=\"dataframe\">\n",
              "  <thead>\n",
              "    <tr style=\"text-align: right;\">\n",
              "      <th></th>\n",
              "      <th>Features</th>\n",
              "      <th>VIF</th>\n",
              "    </tr>\n",
              "  </thead>\n",
              "  <tbody>\n",
              "    <tr>\n",
              "      <th>0</th>\n",
              "      <td>year</td>\n",
              "      <td>inf</td>\n",
              "    </tr>\n",
              "    <tr>\n",
              "      <th>5</th>\n",
              "      <td>age</td>\n",
              "      <td>inf</td>\n",
              "    </tr>\n",
              "    <tr>\n",
              "      <th>13</th>\n",
              "      <td>Petrol</td>\n",
              "      <td>18.30</td>\n",
              "    </tr>\n",
              "    <tr>\n",
              "      <th>10</th>\n",
              "      <td>Diesel</td>\n",
              "      <td>17.30</td>\n",
              "    </tr>\n",
              "    <tr>\n",
              "      <th>16</th>\n",
              "      <td>&gt;5</td>\n",
              "      <td>13.04</td>\n",
              "    </tr>\n",
              "    <tr>\n",
              "      <th>15</th>\n",
              "      <td>5</td>\n",
              "      <td>11.75</td>\n",
              "    </tr>\n",
              "    <tr>\n",
              "      <th>3</th>\n",
              "      <td>engine</td>\n",
              "      <td>6.26</td>\n",
              "    </tr>\n",
              "    <tr>\n",
              "      <th>7</th>\n",
              "      <td>model</td>\n",
              "      <td>5.78</td>\n",
              "    </tr>\n",
              "    <tr>\n",
              "      <th>4</th>\n",
              "      <td>max_power</td>\n",
              "      <td>5.00</td>\n",
              "    </tr>\n",
              "    <tr>\n",
              "      <th>2</th>\n",
              "      <td>mileage</td>\n",
              "      <td>3.22</td>\n",
              "    </tr>\n",
              "    <tr>\n",
              "      <th>6</th>\n",
              "      <td>make</td>\n",
              "      <td>3.21</td>\n",
              "    </tr>\n",
              "    <tr>\n",
              "      <th>14</th>\n",
              "      <td>Manual</td>\n",
              "      <td>1.79</td>\n",
              "    </tr>\n",
              "    <tr>\n",
              "      <th>12</th>\n",
              "      <td>LPG</td>\n",
              "      <td>1.25</td>\n",
              "    </tr>\n",
              "    <tr>\n",
              "      <th>11</th>\n",
              "      <td>Electric</td>\n",
              "      <td>1.23</td>\n",
              "    </tr>\n",
              "    <tr>\n",
              "      <th>1</th>\n",
              "      <td>km_driven</td>\n",
              "      <td>1.21</td>\n",
              "    </tr>\n",
              "    <tr>\n",
              "      <th>8</th>\n",
              "      <td>Individual</td>\n",
              "      <td>1.09</td>\n",
              "    </tr>\n",
              "    <tr>\n",
              "      <th>9</th>\n",
              "      <td>Trustmark Dealer</td>\n",
              "      <td>1.02</td>\n",
              "    </tr>\n",
              "  </tbody>\n",
              "</table>\n",
              "</div>\n",
              "      <button class=\"colab-df-convert\" onclick=\"convertToInteractive('df-54aab716-94b9-4cd8-878b-cbb74ad54713')\"\n",
              "              title=\"Convert this dataframe to an interactive table.\"\n",
              "              style=\"display:none;\">\n",
              "\n",
              "  <svg xmlns=\"http://www.w3.org/2000/svg\" height=\"24px\"viewBox=\"0 0 24 24\"\n",
              "       width=\"24px\">\n",
              "    <path d=\"M0 0h24v24H0V0z\" fill=\"none\"/>\n",
              "    <path d=\"M18.56 5.44l.94 2.06.94-2.06 2.06-.94-2.06-.94-.94-2.06-.94 2.06-2.06.94zm-11 1L8.5 8.5l.94-2.06 2.06-.94-2.06-.94L8.5 2.5l-.94 2.06-2.06.94zm10 10l.94 2.06.94-2.06 2.06-.94-2.06-.94-.94-2.06-.94 2.06-2.06.94z\"/><path d=\"M17.41 7.96l-1.37-1.37c-.4-.4-.92-.59-1.43-.59-.52 0-1.04.2-1.43.59L10.3 9.45l-7.72 7.72c-.78.78-.78 2.05 0 2.83L4 21.41c.39.39.9.59 1.41.59.51 0 1.02-.2 1.41-.59l7.78-7.78 2.81-2.81c.8-.78.8-2.07 0-2.86zM5.41 20L4 18.59l7.72-7.72 1.47 1.35L5.41 20z\"/>\n",
              "  </svg>\n",
              "      </button>\n",
              "\n",
              "\n",
              "\n",
              "    <div id=\"df-c35c7ad7-642e-44a4-8001-692faecadd10\">\n",
              "      <button class=\"colab-df-quickchart\" onclick=\"quickchart('df-c35c7ad7-642e-44a4-8001-692faecadd10')\"\n",
              "              title=\"Suggest charts.\"\n",
              "              style=\"display:none;\">\n",
              "\n",
              "<svg xmlns=\"http://www.w3.org/2000/svg\" height=\"24px\"viewBox=\"0 0 24 24\"\n",
              "     width=\"24px\">\n",
              "    <g>\n",
              "        <path d=\"M19 3H5c-1.1 0-2 .9-2 2v14c0 1.1.9 2 2 2h14c1.1 0 2-.9 2-2V5c0-1.1-.9-2-2-2zM9 17H7v-7h2v7zm4 0h-2V7h2v10zm4 0h-2v-4h2v4z\"/>\n",
              "    </g>\n",
              "</svg>\n",
              "      </button>\n",
              "    </div>\n",
              "\n",
              "<style>\n",
              "  .colab-df-quickchart {\n",
              "    background-color: #E8F0FE;\n",
              "    border: none;\n",
              "    border-radius: 50%;\n",
              "    cursor: pointer;\n",
              "    display: none;\n",
              "    fill: #1967D2;\n",
              "    height: 32px;\n",
              "    padding: 0 0 0 0;\n",
              "    width: 32px;\n",
              "  }\n",
              "\n",
              "  .colab-df-quickchart:hover {\n",
              "    background-color: #E2EBFA;\n",
              "    box-shadow: 0px 1px 2px rgba(60, 64, 67, 0.3), 0px 1px 3px 1px rgba(60, 64, 67, 0.15);\n",
              "    fill: #174EA6;\n",
              "  }\n",
              "\n",
              "  [theme=dark] .colab-df-quickchart {\n",
              "    background-color: #3B4455;\n",
              "    fill: #D2E3FC;\n",
              "  }\n",
              "\n",
              "  [theme=dark] .colab-df-quickchart:hover {\n",
              "    background-color: #434B5C;\n",
              "    box-shadow: 0px 1px 3px 1px rgba(0, 0, 0, 0.15);\n",
              "    filter: drop-shadow(0px 1px 2px rgba(0, 0, 0, 0.3));\n",
              "    fill: #FFFFFF;\n",
              "  }\n",
              "</style>\n",
              "\n",
              "    <script>\n",
              "      async function quickchart(key) {\n",
              "        const containerElement = document.querySelector('#' + key);\n",
              "        const charts = await google.colab.kernel.invokeFunction(\n",
              "            'suggestCharts', [key], {});\n",
              "      }\n",
              "    </script>\n",
              "\n",
              "      <script>\n",
              "\n",
              "function displayQuickchartButton(domScope) {\n",
              "  let quickchartButtonEl =\n",
              "    domScope.querySelector('#df-c35c7ad7-642e-44a4-8001-692faecadd10 button.colab-df-quickchart');\n",
              "  quickchartButtonEl.style.display =\n",
              "    google.colab.kernel.accessAllowed ? 'block' : 'none';\n",
              "}\n",
              "\n",
              "        displayQuickchartButton(document);\n",
              "      </script>\n",
              "      <style>\n",
              "    .colab-df-container {\n",
              "      display:flex;\n",
              "      flex-wrap:wrap;\n",
              "      gap: 12px;\n",
              "    }\n",
              "\n",
              "    .colab-df-convert {\n",
              "      background-color: #E8F0FE;\n",
              "      border: none;\n",
              "      border-radius: 50%;\n",
              "      cursor: pointer;\n",
              "      display: none;\n",
              "      fill: #1967D2;\n",
              "      height: 32px;\n",
              "      padding: 0 0 0 0;\n",
              "      width: 32px;\n",
              "    }\n",
              "\n",
              "    .colab-df-convert:hover {\n",
              "      background-color: #E2EBFA;\n",
              "      box-shadow: 0px 1px 2px rgba(60, 64, 67, 0.3), 0px 1px 3px 1px rgba(60, 64, 67, 0.15);\n",
              "      fill: #174EA6;\n",
              "    }\n",
              "\n",
              "    [theme=dark] .colab-df-convert {\n",
              "      background-color: #3B4455;\n",
              "      fill: #D2E3FC;\n",
              "    }\n",
              "\n",
              "    [theme=dark] .colab-df-convert:hover {\n",
              "      background-color: #434B5C;\n",
              "      box-shadow: 0px 1px 3px 1px rgba(0, 0, 0, 0.15);\n",
              "      filter: drop-shadow(0px 1px 2px rgba(0, 0, 0, 0.3));\n",
              "      fill: #FFFFFF;\n",
              "    }\n",
              "  </style>\n",
              "\n",
              "      <script>\n",
              "        const buttonEl =\n",
              "          document.querySelector('#df-54aab716-94b9-4cd8-878b-cbb74ad54713 button.colab-df-convert');\n",
              "        buttonEl.style.display =\n",
              "          google.colab.kernel.accessAllowed ? 'block' : 'none';\n",
              "\n",
              "        async function convertToInteractive(key) {\n",
              "          const element = document.querySelector('#df-54aab716-94b9-4cd8-878b-cbb74ad54713');\n",
              "          const dataTable =\n",
              "            await google.colab.kernel.invokeFunction('convertToInteractive',\n",
              "                                                     [key], {});\n",
              "          if (!dataTable) return;\n",
              "\n",
              "          const docLinkHtml = 'Like what you see? Visit the ' +\n",
              "            '<a target=\"_blank\" href=https://colab.research.google.com/notebooks/data_table.ipynb>data table notebook</a>'\n",
              "            + ' to learn more about interactive tables.';\n",
              "          element.innerHTML = '';\n",
              "          dataTable['output_type'] = 'display_data';\n",
              "          await google.colab.output.renderOutput(dataTable, element);\n",
              "          const docLink = document.createElement('div');\n",
              "          docLink.innerHTML = docLinkHtml;\n",
              "          element.appendChild(docLink);\n",
              "        }\n",
              "      </script>\n",
              "    </div>\n",
              "  </div>\n"
            ]
          },
          "metadata": {},
          "execution_count": 118
        }
      ],
      "source": [
        "vif = pd.DataFrame()\n",
        "X_t = pd.DataFrame(X_tr_scaled, columns=X_train.columns)\n",
        "vif['Features'] = X_t.columns\n",
        "vif['VIF'] = [variance_inflation_factor(X_t.values, i) for i in range(X_t.shape[1])]\n",
        "vif['VIF'] = round(vif['VIF'], 2)\n",
        "vif = vif.sort_values(by = \"VIF\", ascending = False)\n",
        "vif"
      ]
    },
    {
      "cell_type": "markdown",
      "metadata": {
        "id": "qb5Qqqm7tDsk"
      },
      "source": [
        "#### Note : VIF values tends to be infinity when there is a perfect correlation between the variables"
      ]
    },
    {
      "cell_type": "markdown",
      "metadata": {
        "id": "MgB_6YnAtQPG"
      },
      "source": [
        "Removing the variable with highest VIF"
      ]
    },
    {
      "cell_type": "code",
      "execution_count": null,
      "metadata": {
        "colab": {
          "base_uri": "https://localhost:8080/"
        },
        "id": "6JVWHPD-wDhk",
        "outputId": "43773be9-d1bb-4113-afe9-65984ef9d1fb"
      },
      "outputs": [
        {
          "output_type": "stream",
          "name": "stdout",
          "text": [
            "                            OLS Regression Results                            \n",
            "==============================================================================\n",
            "Dep. Variable:                      y   R-squared:                       0.941\n",
            "Model:                            OLS   Adj. R-squared:                  0.941\n",
            "Method:                 Least Squares   F-statistic:                 1.588e+04\n",
            "Date:                Wed, 09 Aug 2023   Prob (F-statistic):               0.00\n",
            "Time:                        13:34:27   Log-Likelihood:                -7.3180\n",
            "No. Observations:               15856   AIC:                             48.64\n",
            "Df Residuals:                   15839   BIC:                             179.0\n",
            "Df Model:                          16                                         \n",
            "Covariance Type:            nonrobust                                         \n",
            "====================================================================================\n",
            "                       coef    std err          t      P>|t|      [0.025      0.975]\n",
            "------------------------------------------------------------------------------------\n",
            "const               -0.0004      0.002     -0.223      0.823      -0.004       0.003\n",
            "age                 -0.1319      0.003    -49.425      0.000      -0.137      -0.127\n",
            "Petrol              -0.0238      0.008     -2.898      0.004      -0.040      -0.008\n",
            "Diesel               0.0129      0.008      1.614      0.107      -0.003       0.029\n",
            ">5                  -0.0359      0.007     -5.168      0.000      -0.050      -0.022\n",
            "5                   -0.0264      0.007     -4.005      0.000      -0.039      -0.013\n",
            "engine               0.0307      0.005      6.378      0.000       0.021       0.040\n",
            "model                0.7907      0.005    171.030      0.000       0.782       0.800\n",
            "max_power            0.0302      0.004      7.027      0.000       0.022       0.039\n",
            "mileage             -0.0498      0.003    -14.435      0.000      -0.057      -0.043\n",
            "make                 0.0607      0.003     17.612      0.000       0.054       0.067\n",
            "Manual              -0.0136      0.003     -5.285      0.000      -0.019      -0.009\n",
            "LPG                  0.0023      0.002      1.061      0.289      -0.002       0.007\n",
            "Electric             0.0155      0.002      7.266      0.000       0.011       0.020\n",
            "km_driven           -0.0169      0.002     -7.977      0.000      -0.021      -0.013\n",
            "Individual          -0.0179      0.002     -8.906      0.000      -0.022      -0.014\n",
            "Trustmark Dealer    -0.0031      0.002     -1.606      0.108      -0.007       0.001\n",
            "==============================================================================\n",
            "Omnibus:                     3788.584   Durbin-Watson:                   2.003\n",
            "Prob(Omnibus):                  0.000   Jarque-Bera (JB):           169531.293\n",
            "Skew:                           0.334   Prob(JB):                         0.00\n",
            "Kurtosis:                      19.005   Cond. No.                         12.6\n",
            "==============================================================================\n",
            "\n",
            "Notes:\n",
            "[1] Standard Errors assume that the covariance matrix of the errors is correctly specified.\n"
          ]
        }
      ],
      "source": [
        "cols2 = vif[\"Features\"][1:].values\n",
        "X2 = pd.DataFrame(X_tr_scaled, columns=X_train.columns)[cols2]\n",
        "\n",
        "X2_sm = sm.add_constant(X2)  #Statmodels default is without intercept, to add intercept we need to add constant\n",
        "sm_model = sm.OLS(list(y_train), X2_sm).fit()\n",
        "print(sm_model.summary())"
      ]
    },
    {
      "cell_type": "markdown",
      "source": [
        "As we see, there's no drop in R-sq. and adj. R-sq. value even after removing the variable"
      ],
      "metadata": {
        "id": "CkCS6qJz5pjq"
      }
    },
    {
      "cell_type": "markdown",
      "metadata": {
        "id": "7ZPNuBDN-hX7"
      },
      "source": [
        "Let's now keep on removing features till we\n",
        "- either have a feature with vif<5\n",
        "\n",
        "or\n",
        "- have the model's adj. r2 score go below 0.85"
      ]
    },
    {
      "cell_type": "code",
      "source": [
        "vif_thr = 5\n",
        "r2_thr = 0.85\n",
        "i = 1\n",
        "feats_removed = ['year']\n",
        "while True:\n",
        "  vif = pd.DataFrame()\n",
        "  X_t = pd.DataFrame(X_tr_scaled, columns=X_train.columns)[cols2]\n",
        "  vif['Features'] = cols2\n",
        "  vif['VIF'] = [variance_inflation_factor(X_t.values, i) for i in range(X_t.shape[1])]\n",
        "  vif['VIF'] = round(vif['VIF'], 2)\n",
        "  vif = vif.sort_values(by = \"VIF\", ascending = False)\n",
        "\n",
        "  cols2 = vif[\"Features\"][1:].values\n",
        "  X2 = pd.DataFrame(X_tr_scaled, columns=X_train.columns)[cols2]\n",
        "\n",
        "  X2_sm = sm.add_constant(X2)  #Statmodels default is without intercept, to add intercept we need to add constant\n",
        "  sm_model = sm.OLS(list(y_train), X2_sm).fit()\n",
        "  if (vif.iloc[0]['VIF'] < vif_thr) or (sm_model.rsquared_adj < r2_thr):\n",
        "    print('Reached threshold')\n",
        "    print('Highest vif:',vif.iloc[0])\n",
        "    print('Current adj.R2',sm_model.rsquared_adj)\n",
        "    print('Features removed:', i)\n",
        "    print('List of features removed:', feats_removed)\n",
        "    break\n",
        "  feats_removed.append(vif.iloc[0]['Features'])\n",
        "  i += 1"
      ],
      "metadata": {
        "colab": {
          "base_uri": "https://localhost:8080/"
        },
        "id": "X-doUYmmcPPs",
        "outputId": "2c2dd275-2ba7-45c5-c9b8-b3bf715afef2"
      },
      "execution_count": null,
      "outputs": [
        {
          "output_type": "stream",
          "name": "stdout",
          "text": [
            "Reached threshold\n",
            "Highest vif: Features    model\n",
            "VIF          5.75\n",
            "Name: 0, dtype: object\n",
            "Current adj.R2 0.8318553555450336\n",
            "Features removed: 4\n",
            "List of features removed: ['year', 'Petrol', '>5', 'engine']\n"
          ]
        }
      ]
    },
    {
      "cell_type": "code",
      "source": [
        "print(vif)\n",
        "print(sm_model.summary())"
      ],
      "metadata": {
        "colab": {
          "base_uri": "https://localhost:8080/"
        },
        "id": "L8pREs3bg60N",
        "outputId": "c0d7b102-0b90-4b45-87d4-682350fcf131"
      },
      "execution_count": null,
      "outputs": [
        {
          "output_type": "stream",
          "name": "stdout",
          "text": [
            "            Features   VIF\n",
            "0              model  5.75\n",
            "1          max_power  3.31\n",
            "2               make  3.16\n",
            "3            mileage  2.28\n",
            "5                age  1.88\n",
            "6             Manual  1.77\n",
            "4             Diesel  1.66\n",
            "7                  5  1.47\n",
            "9          km_driven  1.20\n",
            "8           Electric  1.18\n",
            "10        Individual  1.08\n",
            "11  Trustmark Dealer  1.02\n",
            "12               LPG  1.01\n",
            "                            OLS Regression Results                            \n",
            "==============================================================================\n",
            "Dep. Variable:                      y   R-squared:                       0.832\n",
            "Model:                            OLS   Adj. R-squared:                  0.832\n",
            "Method:                 Least Squares   F-statistic:                     6538.\n",
            "Date:                Wed, 09 Aug 2023   Prob (F-statistic):               0.00\n",
            "Time:                        13:34:29   Log-Likelihood:                -8348.2\n",
            "No. Observations:               15856   AIC:                         1.672e+04\n",
            "Df Residuals:                   15843   BIC:                         1.682e+04\n",
            "Df Model:                          12                                         \n",
            "Covariance Type:            nonrobust                                         \n",
            "====================================================================================\n",
            "                       coef    std err          t      P>|t|      [0.025      0.975]\n",
            "------------------------------------------------------------------------------------\n",
            "const               -0.0004      0.003     -0.132      0.895      -0.007       0.006\n",
            "max_power            0.3037      0.005     56.642      0.000       0.293       0.314\n",
            "make                 0.3649      0.005     73.452      0.000       0.355       0.375\n",
            "mileage             -0.1150      0.005    -23.589      0.000      -0.125      -0.105\n",
            "age                 -0.3772      0.004   -101.122      0.000      -0.384      -0.370\n",
            "Manual              -0.1242      0.004    -29.627      0.000      -0.132      -0.116\n",
            "Diesel               0.1589      0.004     39.488      0.000       0.151       0.167\n",
            "5                   -0.0461      0.004    -11.759      0.000      -0.054      -0.038\n",
            "km_driven           -0.0294      0.004     -8.267      0.000      -0.036      -0.022\n",
            "Electric             0.0427      0.004     12.127      0.000       0.036       0.050\n",
            "Individual          -0.0338      0.003     -9.982      0.000      -0.040      -0.027\n",
            "Trustmark Dealer    -0.0065      0.003     -1.988      0.047      -0.013   -9.11e-05\n",
            "LPG                  0.0107      0.003      3.281      0.001       0.004       0.017\n",
            "==============================================================================\n",
            "Omnibus:                     2076.324   Durbin-Watson:                   1.980\n",
            "Prob(Omnibus):                  0.000   Jarque-Bera (JB):            11955.803\n",
            "Skew:                           0.494   Prob(JB):                         0.00\n",
            "Kurtosis:                       7.138   Cond. No.                         3.44\n",
            "==============================================================================\n",
            "\n",
            "Notes:\n",
            "[1] Standard Errors assume that the covariance matrix of the errors is correctly specified.\n"
          ]
        }
      ]
    },
    {
      "cell_type": "markdown",
      "metadata": {
        "id": "W-brQFNkcehk"
      },
      "source": [
        "## 3. Errors are normally distributed"
      ]
    },
    {
      "cell_type": "markdown",
      "source": [
        "<img src='https://d2beiqkhq929f0.cloudfront.net/public_assets/assets/000/061/763/original/z.png?1705226711' width=800>\n",
        "\n"
      ],
      "metadata": {
        "id": "0lxGUmsamDL9"
      }
    },
    {
      "cell_type": "markdown",
      "source": [
        "<img src='https://d2beiqkhq929f0.cloudfront.net/public_assets/assets/000/061/764/original/z.png?1705226745' width=800>\n",
        "\n",
        "\n"
      ],
      "metadata": {
        "id": "SvRHVku6mDfg"
      }
    },
    {
      "cell_type": "markdown",
      "source": [
        "<img src='https://d2beiqkhq929f0.cloudfront.net/public_assets/assets/000/061/765/original/z.png?1705226826' width=800>"
      ],
      "metadata": {
        "id": "4MY83maNmFF0"
      }
    },
    {
      "cell_type": "markdown",
      "source": [
        "#### How do outliers impact linear regression?\n",
        "\n",
        "Let's take a 2D e.g. of predicting the price from the given model.\n"
      ],
      "metadata": {
        "id": "nE-c8CxHgIM8"
      }
    },
    {
      "cell_type": "markdown",
      "source": [
        "<img src='https://d2beiqkhq929f0.cloudfront.net/public_assets/assets/000/061/766/original/z.png?1705226858' width=800>"
      ],
      "metadata": {
        "id": "6gXzQdrtnriQ"
      }
    },
    {
      "cell_type": "markdown",
      "metadata": {
        "id": "q5IhLSeorenW"
      },
      "source": [
        "#### Question: After plotting the plot for errors, we see the curve is non-gaussian i.e. Outliers are present. How do we identify and remove these outlier?\n",
        "\n",
        "Ans:\n",
        "\n",
        "- Outliers will have large error value (yi - yi_hat).\n",
        "- Remove the points will high error as many as you want and fit the model again.\n",
        "- Check the distribtion of errors on new model and repeat."
      ]
    },
    {
      "cell_type": "markdown",
      "metadata": {
        "id": "h4KfqSzH11QC"
      },
      "source": [
        "Lets See how is the error distribution for Car24"
      ]
    },
    {
      "cell_type": "code",
      "source": [
        "X_sm = sm.add_constant(X_tr_scaled)\n",
        "sm_model = sm.OLS(y_train, X_sm).fit()"
      ],
      "metadata": {
        "id": "xFN8gWQaJuj9"
      },
      "execution_count": null,
      "outputs": []
    },
    {
      "cell_type": "code",
      "execution_count": null,
      "metadata": {
        "id": "u6exTHXo2AjU"
      },
      "outputs": [],
      "source": [
        "Y_hat = sm_model.predict(X_sm)\n",
        "errors = Y_hat - y_train"
      ]
    },
    {
      "cell_type": "code",
      "execution_count": null,
      "metadata": {
        "colab": {
          "base_uri": "https://localhost:8080/",
          "height": 490
        },
        "id": "xICmGdwS24je",
        "outputId": "9a78851e-4873-466b-c8b1-4511120c2077"
      },
      "outputs": [
        {
          "output_type": "execute_result",
          "data": {
            "text/plain": [
              "Text(0.5, 1.0, 'Histogram of residuals')"
            ]
          },
          "metadata": {},
          "execution_count": 125
        },
        {
          "output_type": "display_data",
          "data": {
            "text/plain": [
              "<Figure size 640x480 with 1 Axes>"
            ],
            "image/png": "[encoded data removed]"
          },
          "metadata": {}
        }
      ],
      "source": [
        "import seaborn as sns\n",
        "sns.histplot(errors)\n",
        "plt.xlabel(\" Residuals\")\n",
        "plt.title(\"Histogram of residuals\")"
      ]
    },
    {
      "cell_type": "markdown",
      "source": [
        "This looks like a normal distribution, with a high mean and low S.D.\n",
        "\n",
        "Let's do a normality test to check if the distribution is actually normal.\n",
        "\n",
        "Recall:\n",
        "- You must have studied Shapiro Wilk test in statistics module."
      ],
      "metadata": {
        "id": "mD2Wn9J5Aovk"
      }
    },
    {
      "cell_type": "code",
      "source": [
        "from scipy import stats\n",
        "res = stats.shapiro(errors)\n",
        "res.statistic"
      ],
      "metadata": {
        "colab": {
          "base_uri": "https://localhost:8080/"
        },
        "id": "Vmp-sXhwAAYS",
        "outputId": "e6ea5dd4-3e23-4bbd-a177-74774d51e605"
      },
      "execution_count": null,
      "outputs": [
        {
          "output_type": "stream",
          "name": "stderr",
          "text": [
            "/usr/local/lib/python3.10/dist-packages/scipy/stats/_morestats.py:1816: UserWarning: p-value may not be accurate for N > 5000.\n",
            "  warnings.warn(\"p-value may not be accurate for N > 5000.\")\n"
          ]
        },
        {
          "output_type": "execute_result",
          "data": {
            "text/plain": [
              "0.8526061177253723"
            ]
          },
          "metadata": {},
          "execution_count": 126
        }
      ]
    },
    {
      "cell_type": "markdown",
      "source": [
        "Closer the value to 1, more is the normality.\n",
        "\n",
        "In this case, a value of 0.85 denotes a high level of normality for the error distribuiton"
      ],
      "metadata": {
        "id": "tfwHEGYzAwZ6"
      }
    },
    {
      "cell_type": "markdown",
      "metadata": {
        "id": "P3Lrf04p6J2F"
      },
      "source": [
        "- If the distribution of errors is gaussian distribution then the assumption of error being normally distributed is being sastified (sanity check)\n",
        "\n"
      ]
    },
    {
      "cell_type": "markdown",
      "metadata": {
        "id": "r8LiXsoPswFG"
      },
      "source": [
        "# 4.Heteroskedasticity should not exist"
      ]
    },
    {
      "cell_type": "markdown",
      "source": [
        "<!-- <img src='https://drive.google.com/uc?id=1_K0iQfncOvnbO4S3kQjQsX2Rsr2907cr' width=800> -->"
      ],
      "metadata": {
        "id": "7xH6xyswnyQH"
      }
    },
    {
      "cell_type": "markdown",
      "source": [
        "<img src='https://d2beiqkhq929f0.cloudfront.net/public_assets/assets/000/066/059/original/hetro.png?1708680988' width=800>"
      ],
      "metadata": {
        "id": "lbtaOELnn2KI"
      }
    },
    {
      "cell_type": "markdown",
      "metadata": {
        "id": "sIvb1VNb7aSx"
      },
      "source": [
        "Lets implement heteroskedasticity in Cars24"
      ]
    },
    {
      "cell_type": "code",
      "execution_count": null,
      "metadata": {
        "id": "80U24Gi87iFV"
      },
      "outputs": [],
      "source": [
        "Y_hat = sm_model.predict(X_sm)\n",
        "errors = Y_hat - y_train"
      ]
    },
    {
      "cell_type": "code",
      "execution_count": null,
      "metadata": {
        "colab": {
          "base_uri": "https://localhost:8080/",
          "height": 490
        },
        "id": "36Ijh3H47dJw",
        "outputId": "ef786462-60e0-44b6-80e5-f0be2c081efb"
      },
      "outputs": [
        {
          "output_type": "execute_result",
          "data": {
            "text/plain": [
              "Text(0.5, 1.0, 'Predicted values vs Residuals')"
            ]
          },
          "metadata": {},
          "execution_count": 129
        },
        {
          "output_type": "display_data",
          "data": {
            "text/plain": [
              "<Figure size 640x480 with 1 Axes>"
            ],
            "image/png": "[encoded data removed]"
          },
          "metadata": {}
        }
      ],
      "source": [
        "sns.scatterplot(x=Y_hat,y=errors)\n",
        "plt.xlabel(\"predicted Selling price\")\n",
        "plt.ylabel(\"Residuals\")\n",
        "plt.title(\"Predicted values vs Residuals\")"
      ]
    },
    {
      "cell_type": "markdown",
      "metadata": {
        "id": "4nltTtnL7z4c"
      },
      "source": [
        "- Notice that As we go from left to right,the spread of  errors is almost constant\n",
        "\n",
        "#### What can we understand from this constant Residuals?\n",
        "- We can assume that heteroskedasticity does not exist in our data\n",
        "- There are outliers present in the dataset\n",
        "\n",
        "We can also use \"Goldfeld-Quandt Test\" to verify our assumptions\n"
      ]
    },
    {
      "cell_type": "markdown",
      "source": [
        "### Using Goldfeld Quandt Test to check homoskedacity\n",
        "\n",
        "- This test is used to test the presence of Heteroscedasticity in the given data\n",
        "- The Goldfeld-Quandt test works by removing some number of observations located in the center of the dataset, then testing to see if the spread of residuals is different from the resulting two datasets that are on either side of the central observations."
      ],
      "metadata": {
        "id": "zukR8GHSjvbh"
      }
    },
    {
      "cell_type": "code",
      "source": [
        "# Performing the Goldfeld-Quandt test to check for Homoscedasticity -\n",
        "from statsmodels.compat import lzip\n",
        "import statsmodels.stats.api as sms\n",
        "\n",
        "name = ['F statistic', 'p-value']\n",
        "test = sms.het_goldfeldquandt(y_train, X2_sm)\n",
        "lzip(name, test)"
      ],
      "metadata": {
        "colab": {
          "base_uri": "https://localhost:8080/"
        },
        "id": "UZZ5H0t8ifhd",
        "outputId": "0f64aafa-96d0-4a0b-ef31-d6fc42a8c3eb"
      },
      "execution_count": null,
      "outputs": [
        {
          "output_type": "execute_result",
          "data": {
            "text/plain": [
              "[('F statistic', 1.0084600947540285), ('p-value', 0.35392832073679753)]"
            ]
          },
          "metadata": {},
          "execution_count": 130
        }
      ]
    },
    {
      "cell_type": "markdown",
      "source": [
        "From the goldfeld-quandt test:\n",
        "- F Statistic comes out to be 1.00 => Implying minimal difference in variance between groups\n",
        "- p-value of 0.353 indicates that this difference is  statistically significant at conventional levels of significance (e.g., 0.05).\n",
        "\n",
        "Therefore, we accept the null hypothesis of homoscedasticity, and conclude that there is no strong evidence of heteroscedasticity in the data."
      ],
      "metadata": {
        "id": "Newbj6B7i5b2"
      }
    },
    {
      "cell_type": "markdown",
      "source": [
        "\n",
        "**Note**:\n",
        "In case we encounter heteroskedacity, we can use the following methods to remove the same:\n",
        "- We can use transformations such as log, sq.rt., or boxcox transformation to remove heteroskedacity.\n",
        "- Also, removing outliers will help.\n"
      ],
      "metadata": {
        "id": "5qhzBUOpmZC8"
      }
    },
    {
      "cell_type": "markdown",
      "metadata": {
        "id": "19BTAM1L8N-G"
      },
      "source": [
        "# 5. No Autocorrelation"
      ]
    },
    {
      "cell_type": "markdown",
      "source": [
        "<img src='https://d2beiqkhq929f0.cloudfront.net/public_assets/assets/000/061/769/original/z.png?1705226962' width=800>"
      ],
      "metadata": {
        "id": "Ha6aEfAmn5wU"
      }
    },
    {
      "cell_type": "markdown",
      "metadata": {
        "id": "_zAMI1-wGjQ9"
      },
      "source": [
        "#### Summing up"
      ]
    },
    {
      "cell_type": "markdown",
      "metadata": {
        "id": "Hke9w6YDHE2n"
      },
      "source": [
        "- Summing up the Assumptions:\n",
        "  - There exist a linear function\n",
        "  - There is no auto correlation (related to time series)\n",
        "  - Errors are normally distributed\n",
        "  - No heteroskedasticity\n",
        "  - No multicollinearity\n",
        "\n",
        "We also have a fundamental assumption: $x^{(i)}, y^{(i)}$ are a random sample"
      ]
    }
  ]
}