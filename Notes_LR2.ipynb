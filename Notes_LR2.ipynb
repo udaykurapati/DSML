{
  "nbformat": 4,
  "nbformat_minor": 0,
  "metadata": {
    "colab": {
      "provenance": [],
      "include_colab_link": true
    },
    "kernelspec": {
      "name": "python3",
      "display_name": "Python 3"
    },
    "language_info": {
      "name": "python"
    }
  },
  "cells": [
    {
      "cell_type": "markdown",
      "metadata": {
        "id": "view-in-github",
        "colab_type": "text"
      },
      "source": [
        "<a href=\"https://colab.research.google.com/github/udaykurapati/DSML/blob/MachineLearning/Notes_LR2.ipynb\" target=\"_parent\"><img src=\"https://colab.research.google.com/assets/colab-badge.svg\" alt=\"Open In Colab\"/></a>"
      ]
    },
    {
      "cell_type": "markdown",
      "source": [
        "## Content\n",
        "\n",
        "- Gradient Descent Revision\n",
        "- Define Linear Regression class\n",
        " - code for helper functions - predict, score\n",
        "- Optimization\n",
        "\n",
        "- Implementing Gradient Descent\n",
        "\n",
        " - model.fit\n",
        "- Plotting  loss function and weights with iteration\n",
        "- How feature scaling helps easier model training\n"
      ],
      "metadata": {
        "id": "JVOfgcgn0sSt"
      }
    },
    {
      "cell_type": "markdown",
      "source": [
        "<img src='https://d2beiqkhq929f0.cloudfront.net/public_assets/assets/000/061/731/original/z.png?1705225160' width=800>"
      ],
      "metadata": {
        "id": "9kQPFVNVmjNZ"
      }
    },
    {
      "cell_type": "markdown",
      "source": [
        "## Gradient Descent Revision"
      ],
      "metadata": {
        "id": "dEEA61cn8Shc"
      }
    },
    {
      "cell_type": "markdown",
      "source": [
        "<img src='https://d2beiqkhq929f0.cloudfront.net/public_assets/assets/000/061/732/original/z.png?1705225281' width=800>\n",
        "\n",
        "\n"
      ],
      "metadata": {
        "id": "cPVLCA7GmeM0"
      }
    },
    {
      "cell_type": "markdown",
      "source": [
        "<img src='https://d2beiqkhq929f0.cloudfront.net/public_assets/assets/000/061/733/original/z.png?1705225316' width=800>"
      ],
      "metadata": {
        "id": "9kIKcCbB6LDb"
      }
    },
    {
      "cell_type": "markdown",
      "source": [
        "## Linear Regression\n",
        "\n"
      ],
      "metadata": {
        "id": "dPYWcpsQvy0K"
      }
    },
    {
      "cell_type": "markdown",
      "source": [
        "Let's define our Linear Regression class and some helper functions to help us with the code"
      ],
      "metadata": {
        "id": "gR70vzIuv22P"
      }
    },
    {
      "cell_type": "markdown",
      "source": [
        "<img src='https://d2beiqkhq929f0.cloudfront.net/public_assets/assets/000/085/914/original/download_%288%29.jpeg?1723532761' width=800>\n"
      ],
      "metadata": {
        "id": "tLGMJKXk6VUi"
      }
    },
    {
      "cell_type": "code",
      "source": [
        "import numpy as np\n",
        "class LinearRegression() :\n",
        "  def __init__(self, learning_rate=0.01, iterations=5):\n",
        "    self.learning_rate = learning_rate\n",
        "    self.iterations = iterations"
      ],
      "metadata": {
        "id": "AupPV3V58zV3"
      },
      "execution_count": null,
      "outputs": []
    },
    {
      "cell_type": "markdown",
      "source": [
        "Next we define our predict function.\n",
        "\n",
        "It's simply $X*W + b$"
      ],
      "metadata": {
        "id": "u0vVds6C2oSK"
      }
    },
    {
      "cell_type": "code",
      "source": [
        "def predict(self, X):\n",
        "  return np.dot(X, self.W)+self.b\n",
        "\n",
        "LinearRegression.predict=predict"
      ],
      "metadata": {
        "id": "JG67iBro8_fY"
      },
      "execution_count": null,
      "outputs": []
    },
    {
      "cell_type": "markdown",
      "source": [
        "<img src='https://d2beiqkhq929f0.cloudfront.net/public_assets/assets/000/085/915/original/download_%289%29.jpeg?1723532785' width=800>\n"
      ],
      "metadata": {
        "id": "YcCqSGWD67Mv"
      }
    },
    {
      "cell_type": "markdown",
      "source": [
        "Finally we define our evaluation metric, R2 Score"
      ],
      "metadata": {
        "id": "iVH0afu-2yb4"
      }
    },
    {
      "cell_type": "code",
      "source": [
        "def r2_score(self, X, y):\n",
        "  y_ = predict(self,X)\n",
        "  ss_res = np.sum((y-y_)**2)\n",
        "  ss_tot = np.sum((y- y.mean())**2)\n",
        "  score = (1- ss_res/ss_tot)\n",
        "  return score\n",
        "\n",
        "LinearRegression.score=r2_score"
      ],
      "metadata": {
        "id": "__Ukf93a_c4q"
      },
      "execution_count": null,
      "outputs": []
    },
    {
      "cell_type": "markdown",
      "metadata": {
        "id": "lCX9l6ItKGH4"
      },
      "source": [
        "## Optimization\n",
        "\n",
        "Now, we come to our main task of training the model."
      ]
    },
    {
      "cell_type": "markdown",
      "source": [
        "If you remember,\n",
        "- our objective was to find the hyperplane in $d+1$ dimensions\n",
        "- such that this is very close to the $d+1$ dimensional points."
      ],
      "metadata": {
        "id": "bGw55a8627RA"
      }
    },
    {
      "cell_type": "markdown",
      "source": [
        "<img src='https://d2beiqkhq929f0.cloudfront.net/public_assets/assets/000/061/734/original/z.png?1705225418' width=800>"
      ],
      "metadata": {
        "id": "5fwwaTU77L88"
      }
    },
    {
      "cell_type": "markdown",
      "metadata": {
        "id": "TUXetnEdLUgZ"
      },
      "source": [
        "#### How do we write it as an optimization problem?"
      ]
    },
    {
      "cell_type": "markdown",
      "source": [
        "<img src='https://d2beiqkhq929f0.cloudfront.net/public_assets/assets/000/061/735/original/z.png?1705225452' width=800>\n",
        "\n"
      ],
      "metadata": {
        "id": "PIlklnut7Ng7"
      }
    },
    {
      "cell_type": "markdown",
      "source": [
        "<img src='https://d2beiqkhq929f0.cloudfront.net/public_assets/assets/000/061/736/original/z.png?1705225492' width=800>"
      ],
      "metadata": {
        "id": "tMADv4N-R52y"
      }
    },
    {
      "cell_type": "markdown",
      "metadata": {
        "id": "64Dr73XBN4P7"
      },
      "source": [
        "#### Geometric Intuition of Minima in Loss function/ Optimization equation"
      ]
    },
    {
      "cell_type": "markdown",
      "source": [
        "<img src='https://d2beiqkhq929f0.cloudfront.net/public_assets/assets/000/061/737/original/z.png?1705225524' width=800>"
      ],
      "metadata": {
        "id": "g8hZytjHSz0I"
      }
    },
    {
      "cell_type": "markdown",
      "metadata": {
        "id": "PWDZj_TxLKY1"
      },
      "source": [
        "Geometrically, we are trying to finding the global minimal of the loss function\n",
        "\n",
        "- In 2D, let's think of this like a parabola.\n",
        "- Our aim is to find the global minimal point of this parabola.\n"
      ]
    },
    {
      "cell_type": "markdown",
      "metadata": {
        "id": "Fd7B9bhzMuVv"
      },
      "source": [
        "### Solving the optimization equation"
      ]
    },
    {
      "cell_type": "markdown",
      "source": [
        "<img src='https://d2beiqkhq929f0.cloudfront.net/public_assets/assets/000/061/738/original/z.png?1705225559' width=800>\n",
        "\n"
      ],
      "metadata": {
        "id": "CrLfaFWCTGf5"
      }
    },
    {
      "cell_type": "markdown",
      "source": [
        "<img src='https://d2beiqkhq929f0.cloudfront.net/public_assets/assets/000/061/739/original/z.png?1705225604' width=800>\n",
        "\n"
      ],
      "metadata": {
        "id": "7AQc1TSWTPka"
      }
    },
    {
      "cell_type": "markdown",
      "source": [
        "<img src='https://d2beiqkhq929f0.cloudfront.net/public_assets/assets/000/061/740/original/z.png?1705225634' width=800>\n",
        "\n"
      ],
      "metadata": {
        "id": "jtHSV-PATSqz"
      }
    },
    {
      "cell_type": "markdown",
      "source": [
        "<img src='https://d2beiqkhq929f0.cloudfront.net/public_assets/assets/000/061/741/original/z.png?1705225666' width=800>"
      ],
      "metadata": {
        "id": "Yzvqx_8wTa9U"
      }
    },
    {
      "cell_type": "markdown",
      "metadata": {
        "id": "iPedFPyweQ3E"
      },
      "source": [
        "### Calculate the gradient"
      ]
    },
    {
      "cell_type": "markdown",
      "source": [
        "<img src='https://d2beiqkhq929f0.cloudfront.net/public_assets/assets/000/061/742/original/z.png?1705225705' width=800>\n",
        "\n"
      ],
      "metadata": {
        "id": "QCPN33DVTgtg"
      }
    },
    {
      "cell_type": "markdown",
      "source": [
        "<img src='https://d2beiqkhq929f0.cloudfront.net/public_assets/assets/000/061/743/original/z.png?1705225736' width=800>\n",
        "\n"
      ],
      "metadata": {
        "id": "tiR44epXTsJQ"
      }
    },
    {
      "cell_type": "markdown",
      "source": [
        "<img src='https://d2beiqkhq929f0.cloudfront.net/public_assets/assets/000/061/744/original/z.png?1705225769' width=800>"
      ],
      "metadata": {
        "id": "P7RYOGcOUFxH"
      }
    },
    {
      "cell_type": "markdown",
      "source": [
        "#### How to update the weights now?"
      ],
      "metadata": {
        "id": "igj0ZXdWFuw8"
      }
    },
    {
      "cell_type": "markdown",
      "source": [
        "<img src='https://d2beiqkhq929f0.cloudfront.net/public_assets/assets/000/061/745/original/z.png?1705225797' width=800>\n",
        "\n",
        "\n"
      ],
      "metadata": {
        "id": "RuIQD-lHUK5w"
      }
    },
    {
      "cell_type": "markdown",
      "source": [
        "<img src='https://d2beiqkhq929f0.cloudfront.net/public_assets/assets/000/061/746/original/z.png?1705225831' width=800>"
      ],
      "metadata": {
        "id": "06-6xgtlUbkD"
      }
    },
    {
      "cell_type": "markdown",
      "source": [
        "\n",
        "**What is the importance of learning rate (α/η)?**\n",
        "\n",
        "α/η is considered as a step size which when iterated over will reach minima of the cost function.\n",
        "\n",
        "- Since Learning rate defines the size of a jump or step size.\n",
        "  - Too small a value -> the updates will happen very slowly.\n",
        "  - A large value -> it may overshoot the minima.\n",
        "\n",
        "- Then we have to iterate back again to reach the minimum. At times it results in oscillations back and forth.\n",
        "\n",
        "- One hack that you can do is we should decrease the value of η as iteration increases. This helps to reach minima more easily and not overshoot."
      ],
      "metadata": {
        "id": "wO-TX0YvFw0b"
      }
    },
    {
      "cell_type": "markdown",
      "source": [
        "## Implementation of weights update using gradient descent, and fit function"
      ],
      "metadata": {
        "id": "R4SPBrZi0IQk"
      }
    },
    {
      "cell_type": "markdown",
      "source": [
        "Let's code the weights updation function now\n"
      ],
      "metadata": {
        "id": "AGlqzggk8x6A"
      }
    },
    {
      "cell_type": "markdown",
      "source": [
        "<img src='https://d2beiqkhq929f0.cloudfront.net/public_assets/assets/000/085/917/original/download_%2810%29.jpeg?1723532929' width=800>"
      ],
      "metadata": {
        "id": "OY_ZRKKwYcXs"
      }
    },
    {
      "cell_type": "code",
      "source": [
        "def update_weights(self):\n",
        "  Y_pred = self.predict( self.X )\n",
        "  # calculate gradients\n",
        "  dW = - (2*(self.X.T ).dot(self.Y - Y_pred))/self.m\n",
        "  db = - 2*np.sum(self.Y - Y_pred)/self.m\n",
        "  # update weights\n",
        "  self.W = self.W - self.learning_rate * dW\n",
        "  self.b = self.b - self.learning_rate * db\n",
        "  return self\n",
        "\n",
        "LinearRegression.update_weights=update_weights"
      ],
      "metadata": {
        "id": "QqcQ0J6AEhaW"
      },
      "execution_count": null,
      "outputs": []
    },
    {
      "cell_type": "markdown",
      "source": [
        "**Note:**\n",
        "- Using 1 point of updation is called stochastic gradient descent.\n",
        "- Whereas if we update the weights after m points, it's called batch gradient descent."
      ],
      "metadata": {
        "id": "J9NElsFFGutj"
      }
    },
    {
      "cell_type": "markdown",
      "source": [
        "Now finally, since we have all the required functions, </br>\n",
        "let's code the `fit` function now to fit our model to our data."
      ],
      "metadata": {
        "id": "OVUXgyLkxOrh"
      }
    },
    {
      "cell_type": "code",
      "source": [
        "def fit(self, X, Y):\n",
        "  # no_of_training_examples, no_of_features\n",
        "  self.m, self.d = X.shape\n",
        "  # weight initialization\n",
        "  self.W = np.zeros(self.d)\n",
        "  self.b = 0\n",
        "  self.X = X\n",
        "  self.Y = Y\n",
        "  self.error_list=[]\n",
        "  # gradient descent learning\n",
        "  for i in range(self.iterations):\n",
        "    self.update_weights()\n",
        "    Y_pred=X.dot(self.W)+self.b\n",
        "    error=np.square(np.subtract(Y,Y_pred)).mean()\n",
        "    self.error_list.append(error)\n",
        "  return self\n",
        "\n",
        "LinearRegression.fit=fit"
      ],
      "metadata": {
        "id": "aSX-Z-HUJaPb"
      },
      "execution_count": null,
      "outputs": []
    },
    {
      "cell_type": "markdown",
      "source": [
        "Let's train our model now on our data"
      ],
      "metadata": {
        "id": "fodLifRpy1SL"
      }
    },
    {
      "cell_type": "code",
      "source": [
        "import numpy as np\n",
        "import pandas as pd\n",
        "import matplotlib.pyplot as plt\n",
        "\n",
        "!gdown 1UpLnYA48Vy_lGUMMLG-uQE1gf_Je12Lh"
      ],
      "metadata": {
        "colab": {
          "base_uri": "https://localhost:8080/"
        },
        "id": "cWjWL56kKiyq",
        "outputId": "3b2b7e81-5896-4052-a453-8f1bde25fd75"
      },
      "execution_count": null,
      "outputs": [
        {
          "output_type": "stream",
          "name": "stdout",
          "text": [
            "Downloading...\n",
            "From: https://drive.google.com/uc?id=1UpLnYA48Vy_lGUMMLG-uQE1gf_Je12Lh\n",
            "To: /content/cars24-car-price-clean.csv\n",
            "100% 7.10M/7.10M [00:00<00:00, 25.0MB/s]\n"
          ]
        }
      ]
    },
    {
      "cell_type": "code",
      "source": [
        "df = pd.read_csv('cars24-car-price-clean.csv')\n",
        "df.head()"
      ],
      "metadata": {
        "colab": {
          "base_uri": "https://localhost:8080/",
          "height": 206
        },
        "id": "GA-MEmss3oce",
        "outputId": "63c0847c-9e2c-47ae-a78c-632854e2679e"
      },
      "execution_count": null,
      "outputs": [
        {
          "output_type": "execute_result",
          "data": {
            "text/plain": [
              "   selling_price      year  km_driven   mileage    engine  max_power  \\\n",
              "0      -1.111046 -0.801317   1.195828  0.045745 -1.310754  -1.157780   \n",
              "1      -0.223944  0.450030  -0.737872 -0.140402 -0.537456  -0.360203   \n",
              "2      -0.915058 -1.426990   0.035608 -0.582501 -0.537456  -0.404885   \n",
              "3      -0.892365 -0.801317  -0.409143  0.329620 -0.921213  -0.693085   \n",
              "4      -0.182683  0.137194  -0.544502  0.760085  0.042999   0.010435   \n",
              "\n",
              "        age      make     model  Individual  Trustmark Dealer    Diesel  \\\n",
              "0  0.801317 -0.433854 -1.125683    1.248892         -0.098382 -0.985275   \n",
              "1 -0.450030 -0.327501 -0.333227    1.248892         -0.098382 -0.985275   \n",
              "2  1.426990 -0.327501 -0.789807    1.248892         -0.098382 -0.985275   \n",
              "3  0.801317 -0.433854 -0.905265    1.248892         -0.098382 -0.985275   \n",
              "4 -0.137194 -0.246579 -0.013096   -0.800710         -0.098382  1.014945   \n",
              "\n",
              "   Electric       LPG    Petrol    Manual         5        >5  \n",
              "0 -0.020095 -0.056917  1.024622  0.495818  0.444503 -0.424728  \n",
              "1 -0.020095 -0.056917  1.024622  0.495818  0.444503 -0.424728  \n",
              "2 -0.020095 -0.056917  1.024622  0.495818  0.444503 -0.424728  \n",
              "3 -0.020095 -0.056917  1.024622  0.495818  0.444503 -0.424728  \n",
              "4 -0.020095 -0.056917 -0.975970  0.495818  0.444503 -0.424728  "
            ],
            "text/html": [
              "\n",
              "  <div id=\"df-1027e86f-1f1e-4da7-8e42-f2f134e6c63f\">\n",
              "    <div class=\"colab-df-container\">\n",
              "      <div>\n",
              "<style scoped>\n",
              "    .dataframe tbody tr th:only-of-type {\n",
              "        vertical-align: middle;\n",
              "    }\n",
              "\n",
              "    .dataframe tbody tr th {\n",
              "        vertical-align: top;\n",
              "    }\n",
              "\n",
              "    .dataframe thead th {\n",
              "        text-align: right;\n",
              "    }\n",
              "</style>\n",
              "<table border=\"1\" class=\"dataframe\">\n",
              "  <thead>\n",
              "    <tr style=\"text-align: right;\">\n",
              "      <th></th>\n",
              "      <th>selling_price</th>\n",
              "      <th>year</th>\n",
              "      <th>km_driven</th>\n",
              "      <th>mileage</th>\n",
              "      <th>engine</th>\n",
              "      <th>max_power</th>\n",
              "      <th>age</th>\n",
              "      <th>make</th>\n",
              "      <th>model</th>\n",
              "      <th>Individual</th>\n",
              "      <th>Trustmark Dealer</th>\n",
              "      <th>Diesel</th>\n",
              "      <th>Electric</th>\n",
              "      <th>LPG</th>\n",
              "      <th>Petrol</th>\n",
              "      <th>Manual</th>\n",
              "      <th>5</th>\n",
              "      <th>&gt;5</th>\n",
              "    </tr>\n",
              "  </thead>\n",
              "  <tbody>\n",
              "    <tr>\n",
              "      <th>0</th>\n",
              "      <td>-1.111046</td>\n",
              "      <td>-0.801317</td>\n",
              "      <td>1.195828</td>\n",
              "      <td>0.045745</td>\n",
              "      <td>-1.310754</td>\n",
              "      <td>-1.157780</td>\n",
              "      <td>0.801317</td>\n",
              "      <td>-0.433854</td>\n",
              "      <td>-1.125683</td>\n",
              "      <td>1.248892</td>\n",
              "      <td>-0.098382</td>\n",
              "      <td>-0.985275</td>\n",
              "      <td>-0.020095</td>\n",
              "      <td>-0.056917</td>\n",
              "      <td>1.024622</td>\n",
              "      <td>0.495818</td>\n",
              "      <td>0.444503</td>\n",
              "      <td>-0.424728</td>\n",
              "    </tr>\n",
              "    <tr>\n",
              "      <th>1</th>\n",
              "      <td>-0.223944</td>\n",
              "      <td>0.450030</td>\n",
              "      <td>-0.737872</td>\n",
              "      <td>-0.140402</td>\n",
              "      <td>-0.537456</td>\n",
              "      <td>-0.360203</td>\n",
              "      <td>-0.450030</td>\n",
              "      <td>-0.327501</td>\n",
              "      <td>-0.333227</td>\n",
              "      <td>1.248892</td>\n",
              "      <td>-0.098382</td>\n",
              "      <td>-0.985275</td>\n",
              "      <td>-0.020095</td>\n",
              "      <td>-0.056917</td>\n",
              "      <td>1.024622</td>\n",
              "      <td>0.495818</td>\n",
              "      <td>0.444503</td>\n",
              "      <td>-0.424728</td>\n",
              "    </tr>\n",
              "    <tr>\n",
              "      <th>2</th>\n",
              "      <td>-0.915058</td>\n",
              "      <td>-1.426990</td>\n",
              "      <td>0.035608</td>\n",
              "      <td>-0.582501</td>\n",
              "      <td>-0.537456</td>\n",
              "      <td>-0.404885</td>\n",
              "      <td>1.426990</td>\n",
              "      <td>-0.327501</td>\n",
              "      <td>-0.789807</td>\n",
              "      <td>1.248892</td>\n",
              "      <td>-0.098382</td>\n",
              "      <td>-0.985275</td>\n",
              "      <td>-0.020095</td>\n",
              "      <td>-0.056917</td>\n",
              "      <td>1.024622</td>\n",
              "      <td>0.495818</td>\n",
              "      <td>0.444503</td>\n",
              "      <td>-0.424728</td>\n",
              "    </tr>\n",
              "    <tr>\n",
              "      <th>3</th>\n",
              "      <td>-0.892365</td>\n",
              "      <td>-0.801317</td>\n",
              "      <td>-0.409143</td>\n",
              "      <td>0.329620</td>\n",
              "      <td>-0.921213</td>\n",
              "      <td>-0.693085</td>\n",
              "      <td>0.801317</td>\n",
              "      <td>-0.433854</td>\n",
              "      <td>-0.905265</td>\n",
              "      <td>1.248892</td>\n",
              "      <td>-0.098382</td>\n",
              "      <td>-0.985275</td>\n",
              "      <td>-0.020095</td>\n",
              "      <td>-0.056917</td>\n",
              "      <td>1.024622</td>\n",
              "      <td>0.495818</td>\n",
              "      <td>0.444503</td>\n",
              "      <td>-0.424728</td>\n",
              "    </tr>\n",
              "    <tr>\n",
              "      <th>4</th>\n",
              "      <td>-0.182683</td>\n",
              "      <td>0.137194</td>\n",
              "      <td>-0.544502</td>\n",
              "      <td>0.760085</td>\n",
              "      <td>0.042999</td>\n",
              "      <td>0.010435</td>\n",
              "      <td>-0.137194</td>\n",
              "      <td>-0.246579</td>\n",
              "      <td>-0.013096</td>\n",
              "      <td>-0.800710</td>\n",
              "      <td>-0.098382</td>\n",
              "      <td>1.014945</td>\n",
              "      <td>-0.020095</td>\n",
              "      <td>-0.056917</td>\n",
              "      <td>-0.975970</td>\n",
              "      <td>0.495818</td>\n",
              "      <td>0.444503</td>\n",
              "      <td>-0.424728</td>\n",
              "    </tr>\n",
              "  </tbody>\n",
              "</table>\n",
              "</div>\n",
              "      <button class=\"colab-df-convert\" onclick=\"convertToInteractive('df-1027e86f-1f1e-4da7-8e42-f2f134e6c63f')\"\n",
              "              title=\"Convert this dataframe to an interactive table.\"\n",
              "              style=\"display:none;\">\n",
              "        \n",
              "  <svg xmlns=\"http://www.w3.org/2000/svg\" height=\"24px\"viewBox=\"0 0 24 24\"\n",
              "       width=\"24px\">\n",
              "    <path d=\"M0 0h24v24H0V0z\" fill=\"none\"/>\n",
              "    <path d=\"M18.56 5.44l.94 2.06.94-2.06 2.06-.94-2.06-.94-.94-2.06-.94 2.06-2.06.94zm-11 1L8.5 8.5l.94-2.06 2.06-.94-2.06-.94L8.5 2.5l-.94 2.06-2.06.94zm10 10l.94 2.06.94-2.06 2.06-.94-2.06-.94-.94-2.06-.94 2.06-2.06.94z\"/><path d=\"M17.41 7.96l-1.37-1.37c-.4-.4-.92-.59-1.43-.59-.52 0-1.04.2-1.43.59L10.3 9.45l-7.72 7.72c-.78.78-.78 2.05 0 2.83L4 21.41c.39.39.9.59 1.41.59.51 0 1.02-.2 1.41-.59l7.78-7.78 2.81-2.81c.8-.78.8-2.07 0-2.86zM5.41 20L4 18.59l7.72-7.72 1.47 1.35L5.41 20z\"/>\n",
              "  </svg>\n",
              "      </button>\n",
              "      \n",
              "  <style>\n",
              "    .colab-df-container {\n",
              "      display:flex;\n",
              "      flex-wrap:wrap;\n",
              "      gap: 12px;\n",
              "    }\n",
              "\n",
              "    .colab-df-convert {\n",
              "      background-color: #E8F0FE;\n",
              "      border: none;\n",
              "      border-radius: 50%;\n",
              "      cursor: pointer;\n",
              "      display: none;\n",
              "      fill: #1967D2;\n",
              "      height: 32px;\n",
              "      padding: 0 0 0 0;\n",
              "      width: 32px;\n",
              "    }\n",
              "\n",
              "    .colab-df-convert:hover {\n",
              "      background-color: #E2EBFA;\n",
              "      box-shadow: 0px 1px 2px rgba(60, 64, 67, 0.3), 0px 1px 3px 1px rgba(60, 64, 67, 0.15);\n",
              "      fill: #174EA6;\n",
              "    }\n",
              "\n",
              "    [theme=dark] .colab-df-convert {\n",
              "      background-color: #3B4455;\n",
              "      fill: #D2E3FC;\n",
              "    }\n",
              "\n",
              "    [theme=dark] .colab-df-convert:hover {\n",
              "      background-color: #434B5C;\n",
              "      box-shadow: 0px 1px 3px 1px rgba(0, 0, 0, 0.15);\n",
              "      filter: drop-shadow(0px 1px 2px rgba(0, 0, 0, 0.3));\n",
              "      fill: #FFFFFF;\n",
              "    }\n",
              "  </style>\n",
              "\n",
              "      <script>\n",
              "        const buttonEl =\n",
              "          document.querySelector('#df-1027e86f-1f1e-4da7-8e42-f2f134e6c63f button.colab-df-convert');\n",
              "        buttonEl.style.display =\n",
              "          google.colab.kernel.accessAllowed ? 'block' : 'none';\n",
              "\n",
              "        async function convertToInteractive(key) {\n",
              "          const element = document.querySelector('#df-1027e86f-1f1e-4da7-8e42-f2f134e6c63f');\n",
              "          const dataTable =\n",
              "            await google.colab.kernel.invokeFunction('convertToInteractive',\n",
              "                                                     [key], {});\n",
              "          if (!dataTable) return;\n",
              "\n",
              "          const docLinkHtml = 'Like what you see? Visit the ' +\n",
              "            '<a target=\"_blank\" href=https://colab.research.google.com/notebooks/data_table.ipynb>data table notebook</a>'\n",
              "            + ' to learn more about interactive tables.';\n",
              "          element.innerHTML = '';\n",
              "          dataTable['output_type'] = 'display_data';\n",
              "          await google.colab.output.renderOutput(dataTable, element);\n",
              "          const docLink = document.createElement('div');\n",
              "          docLink.innerHTML = docLinkHtml;\n",
              "          element.appendChild(docLink);\n",
              "        }\n",
              "      </script>\n",
              "    </div>\n",
              "  </div>\n",
              "  "
            ]
          },
          "metadata": {},
          "execution_count": 8
        }
      ]
    },
    {
      "cell_type": "code",
      "source": [
        "# define X and y\n",
        "X = df.drop('selling_price', axis=1)\n",
        "y = df[\"selling_price\"]"
      ],
      "metadata": {
        "id": "w6pMF1xZ3oS1"
      },
      "execution_count": null,
      "outputs": []
    },
    {
      "cell_type": "code",
      "source": [
        "from sklearn.model_selection import train_test_split\n",
        "X_train, X_test, y_train, y_test = train_test_split(X, y, test_size=0.2, random_state=10)"
      ],
      "metadata": {
        "id": "_2zVamTby5s_"
      },
      "execution_count": null,
      "outputs": []
    },
    {
      "cell_type": "code",
      "source": [
        "lr = LinearRegression(iterations=100)\n",
        "lr.fit(X_train, y_train)"
      ],
      "metadata": {
        "colab": {
          "base_uri": "https://localhost:8080/"
        },
        "id": "_YiKi0tmKs3h",
        "outputId": "08904d94-a168-4100-d4ba-29eff08b8243"
      },
      "execution_count": null,
      "outputs": [
        {
          "output_type": "execute_result",
          "data": {
            "text/plain": [
              "<__main__.LinearRegression at 0x7f7a4d5aace0>"
            ]
          },
          "metadata": {},
          "execution_count": 11
        }
      ]
    },
    {
      "cell_type": "code",
      "source": [
        "lr.predict(X_test)"
      ],
      "metadata": {
        "colab": {
          "base_uri": "https://localhost:8080/"
        },
        "id": "WNgU6R5yLFkW",
        "outputId": "31ccdc17-d3c9-450f-d84c-88cae1e34404"
      },
      "execution_count": null,
      "outputs": [
        {
          "output_type": "execute_result",
          "data": {
            "text/plain": [
              "array([-0.84308986, -0.27745439,  2.44849382, ...,  0.65540967,\n",
              "       -0.54931517,  0.10246191])"
            ]
          },
          "metadata": {},
          "execution_count": 12
        }
      ]
    },
    {
      "cell_type": "code",
      "source": [
        "lr.score(X_train, y_train)"
      ],
      "metadata": {
        "colab": {
          "base_uri": "https://localhost:8080/"
        },
        "id": "8ogBuk8vzVqU",
        "outputId": "d0947e3a-1d23-47db-ca58-43f4e338f3d5"
      },
      "execution_count": null,
      "outputs": [
        {
          "output_type": "execute_result",
          "data": {
            "text/plain": [
              "0.9101033692790105"
            ]
          },
          "metadata": {},
          "execution_count": 13
        }
      ]
    },
    {
      "cell_type": "code",
      "source": [
        "lr.score(X_test, y_test)"
      ],
      "metadata": {
        "colab": {
          "base_uri": "https://localhost:8080/"
        },
        "id": "RrdvositLJt4",
        "outputId": "b4501e19-c17c-4753-ee86-cb0d9b926bbc"
      },
      "execution_count": null,
      "outputs": [
        {
          "output_type": "execute_result",
          "data": {
            "text/plain": [
              "0.9075347558295035"
            ]
          },
          "metadata": {},
          "execution_count": 14
        }
      ]
    },
    {
      "cell_type": "code",
      "source": [
        "lr.W"
      ],
      "metadata": {
        "colab": {
          "base_uri": "https://localhost:8080/"
        },
        "id": "1qRLVwYELhco",
        "outputId": "bc3f3cb5-3401-4538-f1f1-2bb9b592d547"
      },
      "execution_count": null,
      "outputs": [
        {
          "output_type": "execute_result",
          "data": {
            "text/plain": [
              "year                0.125722\n",
              "km_driven          -0.047847\n",
              "mileage            -0.050197\n",
              "engine              0.093654\n",
              "max_power           0.154132\n",
              "age                -0.125722\n",
              "make                0.189528\n",
              "model               0.371064\n",
              "Individual         -0.025478\n",
              "Trustmark Dealer   -0.004997\n",
              "Diesel              0.045118\n",
              "Electric            0.016967\n",
              "LPG                 0.002790\n",
              "Petrol             -0.042832\n",
              "Manual             -0.105770\n",
              "5                  -0.005216\n",
              ">5                  0.003182\n",
              "dtype: float64"
            ]
          },
          "metadata": {},
          "execution_count": 15
        }
      ]
    },
    {
      "cell_type": "code",
      "source": [
        "lr.b"
      ],
      "metadata": {
        "colab": {
          "base_uri": "https://localhost:8080/"
        },
        "id": "SWPkPzBihOjh",
        "outputId": "b053ae55-7ee2-4016-856a-ab89b2cd9115"
      },
      "execution_count": null,
      "outputs": [
        {
          "output_type": "execute_result",
          "data": {
            "text/plain": [
              "0.0011317414350942184"
            ]
          },
          "metadata": {},
          "execution_count": 16
        }
      ]
    },
    {
      "cell_type": "code",
      "source": [
        "%matplotlib inline\n",
        "fig = plt.figure()\n",
        "plt.plot(lr.error_list)\n",
        "plt.title(\"Reduction in error over time\")\n",
        "plt.xlabel(\"iteration\")\n",
        "plt.ylabel(\"Error\")\n",
        "plt.show()"
      ],
      "metadata": {
        "colab": {
          "base_uri": "https://localhost:8080/",
          "height": 472
        },
        "id": "BovEEioYi-CV",
        "outputId": "a56206ab-96df-421f-ad32-6756c3773f1f"
      },
      "execution_count": null,
      "outputs": [
        {
          "output_type": "display_data",
          "data": {
            "text/plain": [
              "<Figure size 640x480 with 1 Axes>"
            ],
            "image/png": "[encoded data removed]"
          },
          "metadata": {}
        }
      ]
    },
    {
      "cell_type": "markdown",
      "source": [
        "#### Extra Read - Normal Eq (optional)"
      ],
      "metadata": {
        "id": "rpjlZgvsPNgI"
      }
    },
    {
      "cell_type": "markdown",
      "source": [
        "https://colab.research.google.com/drive/1x1DAjYu6WgXgnKihmbGjSAvez2G6eBR_?usp=drive_link"
      ],
      "metadata": {
        "id": "zddM-AglPPT5"
      }
    }
  ]
}